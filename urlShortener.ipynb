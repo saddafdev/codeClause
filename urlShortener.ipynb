{
 "cells": [
  {
   "cell_type": "code",
   "execution_count": null,
   "metadata": {},
   "outputs": [],
   "source": [
    "import hashlib\n",
    "\n",
    "class URLShortener:\n",
    "    def __init__(self):\n",
    "        self.url_map = {}\n",
    "\n",
    "    def shorten_url(self, long_url):\n",
    "        # Creating a hash of the long URL (you can use a more sophisticated hashing function)\n",
    "        hash_object = hashlib.md5(long_url.encode())\n",
    "        hash_code = hash_object.hexdigest()[:8]  # Using the first 8 characters of the hash\n",
    "\n",
    "        # Storing the mapping between the hash code and the long URL\n",
    "        self.url_map[hash_code] = long_url\n",
    "\n",
    "        # Return the short URL\n",
    "        return f'short.url/{hash_code}'\n",
    "\n",
    "    def expand_url(self, short_url):\n",
    "        # Extracting the hash code from the short URL\n",
    "        hash_code = short_url.split('/')[-1]\n",
    "\n",
    "        # Retrieving the original URL from the mapping\n",
    "        long_url = self.url_map.get(hash_code, None)\n",
    "\n",
    "        \n"
   ]
  },
  {
   "cell_type": "code",
   "execution_count": null,
   "metadata": {},
   "outputs": [],
   "source": [
    "\n",
    "if long_url:\n",
    "            return long_url\n",
    "        else:\n",
    "            return \"URL not found\"\n",
    "\n",
    "url_shortener = URLShortener()\n",
    "long_url = \"https://www.example.com/this-is-a-very-long-url\"\n",
    "short_url = url_shortener.shorten_url(long_url)\n",
    "print(f\"Short URL: {short_url}\")\n",
    "original_url = url_shortener.expand_url(short_url)\n",
    "print(f\"Original URL: {original_url}\")"
   ]
  }
 ],
 "metadata": {
  "language_info": {
   "name": "python"
  }
 },
 "nbformat": 4,
 "nbformat_minor": 2
}
