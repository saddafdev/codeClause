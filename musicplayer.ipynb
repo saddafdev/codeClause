{
 "cells": [
  {
   "cell_type": "code",
   "execution_count": null,
   "metadata": {},
   "outputs": [],
   "source": [
    "pip install pygame"
   ]
  },
  {
   "cell_type": "code",
   "execution_count": null,
   "metadata": {},
   "outputs": [],
   "source": [
    "\n",
    "import pygame\n",
    "import os\n",
    "\n",
    "# Initialize pygame\n",
    "pygame.init()\n",
    "\n",
    "# Set the directory where your music files are located\n",
    "music_dir = 'path_to_your_music_folder'\n",
    "\n",
    "# Create a list of music files in the directory\n",
    "music_files = [file for file in os.listdir(music_dir) if file.endswith('.mp3')]\n",
    "\n",
    "# Initialize the music player\n",
    "pygame.mixer.init()\n",
    "\n"
   ]
  },
  {
   "cell_type": "code",
   "execution_count": null,
   "metadata": {},
   "outputs": [],
   "source": [
    "# Function to play music\n",
    "def play_music(music_file):\n",
    "    pygame.mixer.music.load(os.path.join(music_dir, music_file))\n",
    "    pygame.mixer.music.play()\n",
    "\n",
    "# Function to stop music\n",
    "def stop_music():\n",
    "    pygame.mixer.music.stop()\n",
    "\n",
    "# Function to pause music\n",
    "def pause_music():\n",
    "    pygame.mixer.music.pause()\n",
    "\n",
    "# Function to resume music\n",
    "def unpause_music():\n",
    "    pygame.mixer.music.unpause()\n",
    "\n",
    "# Display the list of available music files\n",
    "print(\"Available Music Files:\")\n",
    "\n",
    "# Clean up and exit\n",
    "pygame.mixer.music.stop()\n",
    "pygame.mixer.quit()\n",
    "pygame.quit()\n"
   ]
  },
  {
   "cell_type": "code",
   "execution_count": null,
   "metadata": {},
   "outputs": [],
   "source": [
    "for i, music_file in enumerate(music_files, start=1):\n",
    "    print(f\"{i}. {music_file}\")\n",
    "\n",
    "while True:\n",
    "    choice = input(\"Enter the number of the music file you want to play (or 'q' to quit): \")\n",
    "    \n",
    "    if choice == 'q':\n",
    "        break\n",
    "\n",
    "    try:\n",
    "        choice = int(choice)\n",
    "        if 1 <= choice <= len(music_files):\n",
    "            selected_music_file = music_files[choice - 1]\n",
    "            play_music(selected_music_file)\n",
    "            print(f\"Now playing: {selected_music_file}\")\n",
    "        else:\n",
    "            print(\"Invalid choice. Please enter a valid number.\")\n",
    "    except ValueError:\n",
    "        print(\"Invalid input. Please enter a number or 'q' to quit.\")\n"
   ]
  }
 ],
 "metadata": {
  "language_info": {
   "name": "python"
  }
 },
 "nbformat": 4,
 "nbformat_minor": 2
}
